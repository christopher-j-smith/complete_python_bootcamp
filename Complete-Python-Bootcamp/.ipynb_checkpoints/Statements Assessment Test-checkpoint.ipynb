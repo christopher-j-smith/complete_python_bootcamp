{
 "cells": [
  {
   "cell_type": "markdown",
   "metadata": {
    "collapsed": true
   },
   "source": [
    "# Statements Assessment Test\n",
    "Lets test your knowledge!"
   ]
  },
  {
   "cell_type": "markdown",
   "metadata": {},
   "source": [
    "_____\n",
    "**Use for, split(), and if to create a Statement that will print out words that start with 's':**"
   ]
  },
  {
   "cell_type": "code",
   "execution_count": 2,
   "metadata": {
    "collapsed": true
   },
   "outputs": [],
   "source": [
    "st = 'Print only the words that start with s in this sentence'"
   ]
  },
  {
   "cell_type": "code",
   "execution_count": 6,
   "metadata": {
    "collapsed": false
   },
   "outputs": [
    {
     "name": "stdout",
     "output_type": "stream",
     "text": [
      "start\n",
      "s\n",
      "sentence\n"
     ]
    }
   ],
   "source": [
    "for word in st.split():\n",
    "    if word[0] =='s':\n",
    "        print word\n",
    "    "
   ]
  },
  {
   "cell_type": "markdown",
   "metadata": {},
   "source": [
    "______\n",
    "**Use range() to print all the even numbers from 0 to 10.**"
   ]
  },
  {
   "cell_type": "code",
   "execution_count": 7,
   "metadata": {
    "collapsed": false
   },
   "outputs": [
    {
     "data": {
      "text/plain": [
       "[0, 2, 4, 6, 8]"
      ]
     },
     "execution_count": 7,
     "metadata": {},
     "output_type": "execute_result"
    }
   ],
   "source": [
    "range(0,10,2)"
   ]
  },
  {
   "cell_type": "markdown",
   "metadata": {},
   "source": [
    "___\n",
    "**Use List comprehension to create a list of all numbers between 1 and 50 that are divisible by 3.**"
   ]
  },
  {
   "cell_type": "code",
   "execution_count": 11,
   "metadata": {
    "collapsed": false
   },
   "outputs": [
    {
     "name": "stdout",
     "output_type": "stream",
     "text": [
      "[0, 3, 6, 9, 12, 15, 18, 21, 24, 27, 30, 33, 36, 39, 42, 45, 48]\n"
     ]
    }
   ],
   "source": [
    "lst = [num for num in range(0,50,3)]\n",
    "\n",
    "print lst"
   ]
  },
  {
   "cell_type": "markdown",
   "metadata": {},
   "source": [
    "_____\n",
    "**Go through the string below and if the length of a word is even print \"even!\"**"
   ]
  },
  {
   "cell_type": "code",
   "execution_count": 17,
   "metadata": {
    "collapsed": true
   },
   "outputs": [],
   "source": [
    "st = 'Print every word in this sentence that has an even number of letters'"
   ]
  },
  {
   "cell_type": "code",
   "execution_count": 18,
   "metadata": {
    "collapsed": false,
    "scrolled": true
   },
   "outputs": [
    {
     "name": "stdout",
     "output_type": "stream",
     "text": [
      "word even!\n",
      "in even!\n",
      "this even!\n",
      "sentence even!\n",
      "that even!\n",
      "an even!\n",
      "even even!\n",
      "number even!\n",
      "of even!\n"
     ]
    }
   ],
   "source": [
    "for x in st.split():\n",
    "    if len(x) % 2 ==0:\n",
    "        print(x + ' even!')\n",
    "    "
   ]
  },
  {
   "cell_type": "markdown",
   "metadata": {},
   "source": [
    "____\n",
    "**Write a program that prints the integers from 1 to 100. But for multiples of three print \"Fizz\" instead of the number, and for the multiples of five print \"Buzz\". For numbers which are multiples of both three and five print \"FizzBuzz\".**"
   ]
  },
  {
   "cell_type": "code",
   "execution_count": 20,
   "metadata": {
    "collapsed": false
   },
   "outputs": [
    {
     "name": "stdout",
     "output_type": "stream",
     "text": [
      "FizzBuzz\n",
      "Buzz\n",
      "Buzz\n",
      "Fizz\n",
      "Buzz\n",
      "Buzz\n",
      "Fizz\n",
      "Buzz\n",
      "Buzz\n",
      "Fizz\n",
      "Buzz\n",
      "Buzz\n",
      "Fizz\n",
      "Buzz\n",
      "Buzz\n",
      "FizzBuzz\n",
      "Buzz\n",
      "Buzz\n",
      "Fizz\n",
      "Buzz\n",
      "Buzz\n",
      "Fizz\n",
      "Buzz\n",
      "Buzz\n",
      "Fizz\n",
      "Buzz\n",
      "Buzz\n",
      "Fizz\n",
      "Buzz\n",
      "Buzz\n",
      "FizzBuzz\n",
      "Buzz\n",
      "Buzz\n",
      "Fizz\n",
      "Buzz\n",
      "Buzz\n",
      "Fizz\n",
      "Buzz\n",
      "Buzz\n",
      "Fizz\n",
      "Buzz\n",
      "Buzz\n",
      "Fizz\n",
      "Buzz\n",
      "Buzz\n",
      "FizzBuzz\n",
      "Buzz\n",
      "Buzz\n",
      "Fizz\n",
      "Buzz\n",
      "Buzz\n",
      "Fizz\n",
      "Buzz\n",
      "Buzz\n",
      "Fizz\n",
      "Buzz\n",
      "Buzz\n",
      "Fizz\n",
      "Buzz\n",
      "Buzz\n",
      "FizzBuzz\n",
      "Buzz\n",
      "Buzz\n",
      "Fizz\n",
      "Buzz\n",
      "Buzz\n",
      "Fizz\n",
      "Buzz\n",
      "Buzz\n",
      "Fizz\n",
      "Buzz\n",
      "Buzz\n",
      "Fizz\n",
      "Buzz\n",
      "Buzz\n",
      "FizzBuzz\n",
      "Buzz\n",
      "Buzz\n",
      "Fizz\n",
      "Buzz\n",
      "Buzz\n",
      "Fizz\n",
      "Buzz\n",
      "Buzz\n",
      "Fizz\n",
      "Buzz\n",
      "Buzz\n",
      "Fizz\n",
      "Buzz\n",
      "Buzz\n",
      "FizzBuzz\n",
      "Buzz\n",
      "Buzz\n",
      "Fizz\n",
      "Buzz\n",
      "Buzz\n",
      "Fizz\n",
      "Buzz\n",
      "Buzz\n",
      "Fizz\n"
     ]
    }
   ],
   "source": [
    "for x in range(100):\n",
    "    if x % 3 == 0:\n",
    "        if x % 5 == 0:\n",
    "            print('FizzBuzz')\n",
    "        else:\n",
    "            print('Fizz')\n",
    "    else:\n",
    "        print('Buzz')\n",
    "    "
   ]
  },
  {
   "cell_type": "markdown",
   "metadata": {},
   "source": [
    "____\n",
    "**Use List Comprehension to create a list of the first letters of every word in the string below:**"
   ]
  },
  {
   "cell_type": "code",
   "execution_count": 24,
   "metadata": {
    "collapsed": true
   },
   "outputs": [],
   "source": [
    "st = 'Create a list of the first letters of every word in this string'"
   ]
  },
  {
   "cell_type": "code",
   "execution_count": 25,
   "metadata": {
    "collapsed": false
   },
   "outputs": [
    {
     "name": "stdout",
     "output_type": "stream",
     "text": [
      "['C', 'a', 'l', 'o', 't', 'f', 'l', 'o', 'e', 'w', 'i', 't', 's']\n"
     ]
    }
   ],
   "source": [
    "lst = [x[0] for x in st.split()]\n",
    "\n",
    "print lst"
   ]
  },
  {
   "cell_type": "markdown",
   "metadata": {},
   "source": [
    "### Great Job!"
   ]
  }
 ],
 "metadata": {
  "kernelspec": {
   "display_name": "Python [Root]",
   "language": "python",
   "name": "Python [Root]"
  },
  "language_info": {
   "codemirror_mode": {
    "name": "ipython",
    "version": 2
   },
   "file_extension": ".py",
   "mimetype": "text/x-python",
   "name": "python",
   "nbconvert_exporter": "python",
   "pygments_lexer": "ipython2",
   "version": "2.7.12"
  }
 },
 "nbformat": 4,
 "nbformat_minor": 0
}
